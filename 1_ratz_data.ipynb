{
 "cells": [
  {
   "cell_type": "code",
   "execution_count": 2,
   "metadata": {
    "_cell_guid": "b1076dfc-b9ad-4769-8c92-a6c4dae69d19",
    "_uuid": "8f2839f25d086af736a60e9eeb907d3b93b6e0e5",
    "execution": {
     "iopub.execute_input": "2024-11-09T14:53:06.140588Z",
     "iopub.status.busy": "2024-11-09T14:53:06.139151Z",
     "iopub.status.idle": "2024-11-09T14:53:17.528976Z",
     "shell.execute_reply": "2024-11-09T14:53:17.528019Z",
     "shell.execute_reply.started": "2024-11-09T14:53:06.140532Z"
    },
    "trusted": true
   },
   "outputs": [
    {
     "name": "stderr",
     "output_type": "stream",
     "text": [
      "/opt/conda/lib/python3.10/pty.py:89: RuntimeWarning: os.fork() was called. os.fork() is incompatible with multithreaded code, and JAX is multithreaded, so this will likely lead to a deadlock.\n",
      "  pid, fd = os.forkpty()\n"
     ]
    }
   ],
   "source": [
    "!pip install mne -q\n",
    "\n",
    "import mne\n",
    "import pandas as pd\n",
    "import numpy as np\n",
    "import matplotlib.pyplot as plt\n",
    "import tensorflow as tf\n",
    "from tensorflow.keras import Sequential\n",
    "from tensorflow.keras.layers import Flatten, Dense, Dropout, BatchNormalization, Conv2D, MaxPool2D\n",
    "from tensorflow.keras.optimizers import Adam\n",
    "from tensorflow.keras.models import load_model\n",
    "from sklearn.preprocessing import LabelEncoder, StandardScaler, LabelBinarizer\n",
    "from sklearn.model_selection import train_test_split\n",
    "from sklearn.metrics import confusion_matrix, recall_score, accuracy_score, precision_score, roc_curve, auc\n",
    "from mlxtend.plotting import plot_confusion_matrix\n",
    "import scipy.stats as stats"
   ]
  },
  {
   "cell_type": "code",
   "execution_count": 5,
   "metadata": {
    "execution": {
     "iopub.execute_input": "2024-11-09T15:00:34.431250Z",
     "iopub.status.busy": "2024-11-09T15:00:34.430436Z",
     "iopub.status.idle": "2024-11-09T15:07:53.029844Z",
     "shell.execute_reply": "2024-11-09T15:07:53.028982Z",
     "shell.execute_reply.started": "2024-11-09T15:00:34.431209Z"
    },
    "trusted": true
   },
   "outputs": [
    {
     "name": "stdout",
     "output_type": "stream",
     "text": [
      "Extracting EDF parameters from /kaggle/input/krisii/Ati4x1_15m_BL_6h_fully_marked.edf...\n",
      "EDF file detected\n",
      "Setting channel info structure...\n",
      "Creating raw.info structure...\n",
      "Extracting EDF parameters from /kaggle/input/krisii/Ati4x1_15m_Dex003(Pharm)_6h_fully_marked.edf...\n",
      "EDF file detected\n",
      "Setting channel info structure...\n",
      "Creating raw.info structure...\n",
      "Extracting EDF parameters from /kaggle/input/krisii/Ati4x1_15m_H2O_6h_fully_marked.edf...\n",
      "EDF file detected\n",
      "Setting channel info structure...\n",
      "Creating raw.info structure...\n",
      "Extracting EDF parameters from /kaggle/input/krisii/Ati4x3_12m_BL_6h_fully_marked.edf...\n",
      "EDF file detected\n",
      "Setting channel info structure...\n",
      "Creating raw.info structure...\n",
      "Extracting EDF parameters from /kaggle/input/krisii/Ati4x3_9m_Xyl01(Pharm)_6h_fully_marked.edf...\n",
      "EDF file detected\n",
      "Setting channel info structure...\n",
      "Creating raw.info structure...\n",
      "Extracting EDF parameters from /kaggle/input/krisii/Ati4x6_14m_BL_6h_fully_marked.edf...\n",
      "EDF file detected\n",
      "Setting channel info structure...\n",
      "Creating raw.info structure...\n"
     ]
    }
   ],
   "source": [
    "krisa1_path = \"/kaggle/input/krisii/Ati4x1_15m_BL_6h_fully_marked.edf\"\n",
    "krisa2_path = \"/kaggle/input/krisii/Ati4x1_15m_Dex003(Pharm)_6h_fully_marked.edf\"\n",
    "krisa3_path = \"/kaggle/input/krisii/Ati4x1_15m_H2O_6h_fully_marked.edf\"\n",
    "krisa4_path = \"/kaggle/input/krisii/Ati4x3_12m_BL_6h_fully_marked.edf\"\n",
    "krisa5_path = \"/kaggle/input/krisii/Ati4x3_9m_Xyl01(Pharm)_6h_fully_marked.edf\"\n",
    "krisa6_path = \"/kaggle/input/krisii/Ati4x6_14m_BL_6h_fully_marked.edf\"\n",
    "\n",
    "krisa1_data = mne.io.read_raw_edf(krisa1_path)\n",
    "krisa2_data = mne.io.read_raw_edf(krisa2_path)\n",
    "krisa3_data = mne.io.read_raw_edf(krisa3_path)\n",
    "krisa4_data = mne.io.read_raw_edf(krisa4_path)\n",
    "krisa5_data = mne.io.read_raw_edf(krisa5_path)\n",
    "krisa6_data = mne.io.read_raw_edf(krisa6_path)\n",
    "\n",
    "df1 = krisa1_data.to_data_frame()\n",
    "df2 = krisa2_data.to_data_frame()\n",
    "df3 = krisa3_data.to_data_frame()\n",
    "df4 = krisa4_data.to_data_frame()\n",
    "df5 = krisa5_data.to_data_frame()\n",
    "df6 = krisa6_data.to_data_frame()\n",
    "\n",
    "df1['time'] = pd.to_datetime(df1['time'], unit='s').dt.strftime('%H:%M:%S.%f')\n",
    "df2['time'] = pd.to_datetime(df2['time'], unit='s').dt.strftime('%H:%M:%S.%f')\n",
    "df3['time'] = pd.to_datetime(df3['time'], unit='s').dt.strftime('%H:%M:%S.%f')\n",
    "df4['time'] = pd.to_datetime(df4['time'], unit='s').dt.strftime('%H:%M:%S.%f')\n",
    "df5['time'] = pd.to_datetime(df5['time'], unit='s').dt.strftime('%H:%M:%S.%f')\n",
    "df6['time'] = pd.to_datetime(df6['time'], unit='s').dt.strftime('%H:%M:%S.%f')"
   ]
  },
  {
   "cell_type": "code",
   "execution_count": 6,
   "metadata": {
    "execution": {
     "iopub.execute_input": "2024-11-09T15:09:07.862540Z",
     "iopub.status.busy": "2024-11-09T15:09:07.861291Z",
     "iopub.status.idle": "2024-11-09T15:09:07.959737Z",
     "shell.execute_reply": "2024-11-09T15:09:07.958893Z",
     "shell.execute_reply.started": "2024-11-09T15:09:07.862471Z"
    },
    "trusted": true
   },
   "outputs": [],
   "source": [
    "krisa1_annotations = pd.read_csv('/kaggle/input/krisii/Ati4x1_15m_BL_6h.txt', sep=\"\\t\", names=[\"NN\", \"time\", \"marker\"], header=0)\n",
    "krisa2_annotations = pd.read_csv('/kaggle/input/krisii/Ati4x1_15m_Dex003(Pharm)_6h.txt', sep=\"\\t\", names=[\"NN\", \"time\", \"marker\"], header=0)\n",
    "krisa3_annotations = pd.read_csv('/kaggle/input/krisii/Ati4x1_15m_H2O_6h.txt', sep=\"\\t\", names=[\"NN\", \"time\", \"marker\"], header=0)\n",
    "krisa4_annotations = pd.read_csv('/kaggle/input/krisii/Ati4x3_12m_BL_6h.txt', sep=\"\\t\", names=[\"NN\", \"time\", \"marker\"], header=0)\n",
    "krisa5_annotations = pd.read_csv('/kaggle/input/krisii/Ati4x3_9m_Xyl01(Pharm)_6h1.txt', sep=\"\\t\", names=[\"NN\", \"time\", \"marker\"], header=0)\n",
    "krisa6_annotations = pd.read_csv('/kaggle/input/krisii/Ati4x6_14m_BL_6h.txt', sep=\"\\t\", names=[\"NN\", \"time\", \"marker\"], header=0)\n",
    "\n",
    "krisa1_annotations.drop(columns=['NN'], inplace=True, axis=1)\n",
    "krisa2_annotations.drop(columns=['NN'], inplace=True, axis=1)\n",
    "krisa3_annotations.drop(columns=['NN'], inplace=True, axis=1)\n",
    "krisa4_annotations.drop(columns=['NN'], inplace=True, axis=1)\n",
    "krisa5_annotations.drop(columns=['NN'], inplace=True, axis=1)\n",
    "krisa6_annotations.drop(columns=['NN'], inplace=True, axis=1)\n",
    "\n",
    "krisa1_annotations['time'] = pd.to_datetime(krisa1_annotations['time'], format='%H:%M:%S')\n",
    "krisa2_annotations['time'] = pd.to_datetime(krisa2_annotations['time'], format='%H:%M:%S')\n",
    "krisa3_annotations['time'] = pd.to_datetime(krisa3_annotations['time'], format='%H:%M:%S')\n",
    "krisa4_annotations['time'] = pd.to_datetime(krisa4_annotations['time'], format='%H:%M:%S')\n",
    "krisa5_annotations['time'] = pd.to_datetime(krisa5_annotations['time'], format='%H:%M:%S')\n",
    "krisa6_annotations['time'] = pd.to_datetime(krisa6_annotations['time'], format='%H:%M:%S')\n",
    "\n",
    "krisa1_annotations['time'] = krisa1_annotations['time'].dt.strftime('%H:%M:%S.') + '000000'\n",
    "krisa2_annotations['time'] = krisa2_annotations['time'].dt.strftime('%H:%M:%S.') + '000000'\n",
    "krisa3_annotations['time'] = krisa3_annotations['time'].dt.strftime('%H:%M:%S.') + '000000'\n",
    "krisa4_annotations['time'] = krisa4_annotations['time'].dt.strftime('%H:%M:%S.') + '000000'\n",
    "krisa5_annotations['time'] = krisa5_annotations['time'].dt.strftime('%H:%M:%S.') + '000000'\n",
    "krisa6_annotations['time'] = krisa6_annotations['time'].dt.strftime('%H:%M:%S.') + '000000'"
   ]
  },
  {
   "cell_type": "code",
   "execution_count": 7,
   "metadata": {
    "execution": {
     "iopub.execute_input": "2024-11-09T15:09:13.807704Z",
     "iopub.status.busy": "2024-11-09T15:09:13.806877Z",
     "iopub.status.idle": "2024-11-09T15:09:38.155538Z",
     "shell.execute_reply": "2024-11-09T15:09:38.154692Z",
     "shell.execute_reply.started": "2024-11-09T15:09:13.807653Z"
    },
    "trusted": true
   },
   "outputs": [],
   "source": [
    "df1 = pd.merge(df1, krisa1_annotations, on='time', how='left')\n",
    "df2 = pd.merge(df2, krisa2_annotations, on='time', how='left')\n",
    "df3 = pd.merge(df3, krisa3_annotations, on='time', how='left')\n",
    "df4 = pd.merge(df4, krisa4_annotations, on='time', how='left')\n",
    "df5 = pd.merge(df5, krisa5_annotations, on='time', how='left')\n",
    "df6 = pd.merge(df6, krisa6_annotations, on='time', how='left')"
   ]
  },
  {
   "cell_type": "code",
   "execution_count": 8,
   "metadata": {
    "execution": {
     "iopub.execute_input": "2024-11-09T15:09:42.353643Z",
     "iopub.status.busy": "2024-11-09T15:09:42.353143Z",
     "iopub.status.idle": "2024-11-09T15:09:44.608535Z",
     "shell.execute_reply": "2024-11-09T15:09:44.607478Z",
     "shell.execute_reply.started": "2024-11-09T15:09:42.353596Z"
    },
    "trusted": true
   },
   "outputs": [],
   "source": [
    "df1['krisa'] = 1\n",
    "df2['krisa'] = 2\n",
    "df3['krisa'] = 3\n",
    "df4['krisa'] = 4\n",
    "df5['krisa'] = 5\n",
    "df6['krisa'] = 6\n",
    "\n",
    "df = pd.concat([df1, df2, df3, df4, df5, df6], axis=0, ignore_index=True)"
   ]
  },
  {
   "cell_type": "code",
   "execution_count": 9,
   "metadata": {
    "execution": {
     "iopub.execute_input": "2024-11-09T15:09:47.340001Z",
     "iopub.status.busy": "2024-11-09T15:09:47.339519Z",
     "iopub.status.idle": "2024-11-09T15:09:47.348506Z",
     "shell.execute_reply": "2024-11-09T15:09:47.347476Z",
     "shell.execute_reply.started": "2024-11-09T15:09:47.339953Z"
    },
    "trusted": true
   },
   "outputs": [
    {
     "data": {
      "text/plain": [
       "(51842407, 6)"
      ]
     },
     "execution_count": 9,
     "metadata": {},
     "output_type": "execute_result"
    }
   ],
   "source": [
    "df.shape"
   ]
  },
  {
   "cell_type": "code",
   "execution_count": 10,
   "metadata": {
    "execution": {
     "iopub.execute_input": "2024-11-09T15:09:49.606399Z",
     "iopub.status.busy": "2024-11-09T15:09:49.605714Z",
     "iopub.status.idle": "2024-11-09T15:09:49.625303Z",
     "shell.execute_reply": "2024-11-09T15:09:49.624332Z",
     "shell.execute_reply.started": "2024-11-09T15:09:49.606358Z"
    },
    "trusted": true
   },
   "outputs": [
    {
     "name": "stdout",
     "output_type": "stream",
     "text": [
      "<class 'pandas.core.frame.DataFrame'>\n",
      "RangeIndex: 51842407 entries, 0 to 51842406\n",
      "Data columns (total 6 columns):\n",
      " #   Column  Dtype  \n",
      "---  ------  -----  \n",
      " 0   time    object \n",
      " 1   FrL     float64\n",
      " 2   FrR     float64\n",
      " 3   OcR     float64\n",
      " 4   marker  object \n",
      " 5   krisa   int64  \n",
      "dtypes: float64(3), int64(1), object(2)\n",
      "memory usage: 2.3+ GB\n"
     ]
    }
   ],
   "source": [
    "df.info()"
   ]
  },
  {
   "cell_type": "code",
   "execution_count": null,
   "metadata": {
    "execution": {
     "iopub.execute_input": "2024-11-09T15:09:52.886600Z",
     "iopub.status.busy": "2024-11-09T15:09:52.885895Z",
     "iopub.status.idle": "2024-11-09T15:09:55.429552Z",
     "shell.execute_reply": "2024-11-09T15:09:55.428429Z",
     "shell.execute_reply.started": "2024-11-09T15:09:52.886560Z"
    },
    "trusted": true
   },
   "outputs": [
    {
     "name": "stdout",
     "output_type": "stream",
     "text": [
      "nan\n",
      "ds1\n",
      "ds2\n",
      "is2\n",
      "is1\n",
      "swd1\n",
      "swd2\n",
      "dds2\n",
      "sdw1\n"
     ]
    }
   ],
   "source": [
    "unique_values = df[\"marker\"].unique()\n",
    "\n",
    "for value in unique_values:\n",
    "    print(value)"
   ]
  },
  {
   "cell_type": "code",
   "execution_count": 14,
   "metadata": {
    "execution": {
     "iopub.execute_input": "2024-11-09T15:10:31.685283Z",
     "iopub.status.busy": "2024-11-09T15:10:31.684387Z",
     "iopub.status.idle": "2024-11-09T15:10:36.396776Z",
     "shell.execute_reply": "2024-11-09T15:10:36.395941Z",
     "shell.execute_reply.started": "2024-11-09T15:10:31.685241Z"
    },
    "trusted": true
   },
   "outputs": [],
   "source": [
    "# Преобразуем значения\n",
    "df['marker'] = df['marker'].replace({\"sdw1\": \"swd1\", \"dds2\": \"ds2\"})"
   ]
  },
  {
   "cell_type": "code",
   "execution_count": null,
   "metadata": {
    "execution": {
     "iopub.execute_input": "2024-11-09T15:11:05.713557Z",
     "iopub.status.busy": "2024-11-09T15:11:05.713141Z",
     "iopub.status.idle": "2024-11-09T15:11:08.249111Z",
     "shell.execute_reply": "2024-11-09T15:11:08.247946Z",
     "shell.execute_reply.started": "2024-11-09T15:11:05.713514Z"
    },
    "trusted": true
   },
   "outputs": [
    {
     "name": "stdout",
     "output_type": "stream",
     "text": [
      "nan\n",
      "ds1\n",
      "ds2\n",
      "is2\n",
      "is1\n",
      "swd1\n",
      "swd2\n"
     ]
    }
   ],
   "source": [
    "unique_values = df[\"marker\"].unique()\n",
    "\n",
    "for value in unique_values:\n",
    "    print(value)"
   ]
  },
  {
   "cell_type": "code",
   "execution_count": null,
   "metadata": {
    "execution": {
     "iopub.execute_input": "2024-11-09T15:11:12.563047Z",
     "iopub.status.busy": "2024-11-09T15:11:12.561943Z",
     "iopub.status.idle": "2024-11-09T16:02:29.876610Z",
     "shell.execute_reply": "2024-11-09T16:02:29.875556Z",
     "shell.execute_reply.started": "2024-11-09T15:11:12.563003Z"
    },
    "trusted": true
   },
   "outputs": [
    {
     "data": {
      "text/html": [
       "<div>\n",
       "<style scoped>\n",
       "    .dataframe tbody tr th:only-of-type {\n",
       "        vertical-align: middle;\n",
       "    }\n",
       "\n",
       "    .dataframe tbody tr th {\n",
       "        vertical-align: top;\n",
       "    }\n",
       "\n",
       "    .dataframe thead th {\n",
       "        text-align: right;\n",
       "    }\n",
       "</style>\n",
       "<table border=\"1\" class=\"dataframe\">\n",
       "  <thead>\n",
       "    <tr style=\"text-align: right;\">\n",
       "      <th></th>\n",
       "      <th>time</th>\n",
       "      <th>FrL</th>\n",
       "      <th>FrR</th>\n",
       "      <th>OcR</th>\n",
       "      <th>marker</th>\n",
       "      <th>krisa</th>\n",
       "    </tr>\n",
       "  </thead>\n",
       "  <tbody>\n",
       "    <tr>\n",
       "      <th>0</th>\n",
       "      <td>00:00:00.000000</td>\n",
       "      <td>50.8750</td>\n",
       "      <td>46.5625</td>\n",
       "      <td>121.1250</td>\n",
       "      <td>NaN</td>\n",
       "      <td>1</td>\n",
       "    </tr>\n",
       "    <tr>\n",
       "      <th>1</th>\n",
       "      <td>00:00:00.002500</td>\n",
       "      <td>41.8125</td>\n",
       "      <td>36.2500</td>\n",
       "      <td>110.2500</td>\n",
       "      <td>NaN</td>\n",
       "      <td>1</td>\n",
       "    </tr>\n",
       "    <tr>\n",
       "      <th>2</th>\n",
       "      <td>00:00:00.005000</td>\n",
       "      <td>51.8125</td>\n",
       "      <td>39.9375</td>\n",
       "      <td>122.8750</td>\n",
       "      <td>NaN</td>\n",
       "      <td>1</td>\n",
       "    </tr>\n",
       "    <tr>\n",
       "      <th>3</th>\n",
       "      <td>00:00:00.007500</td>\n",
       "      <td>74.7500</td>\n",
       "      <td>67.9375</td>\n",
       "      <td>150.9375</td>\n",
       "      <td>NaN</td>\n",
       "      <td>1</td>\n",
       "    </tr>\n",
       "    <tr>\n",
       "      <th>4</th>\n",
       "      <td>00:00:00.010000</td>\n",
       "      <td>86.8750</td>\n",
       "      <td>86.0625</td>\n",
       "      <td>177.6875</td>\n",
       "      <td>NaN</td>\n",
       "      <td>1</td>\n",
       "    </tr>\n",
       "  </tbody>\n",
       "</table>\n",
       "</div>"
      ],
      "text/plain": [
       "              time      FrL      FrR       OcR marker  krisa\n",
       "0  00:00:00.000000  50.8750  46.5625  121.1250    NaN      1\n",
       "1  00:00:00.002500  41.8125  36.2500  110.2500    NaN      1\n",
       "2  00:00:00.005000  51.8125  39.9375  122.8750    NaN      1\n",
       "3  00:00:00.007500  74.7500  67.9375  150.9375    NaN      1\n",
       "4  00:00:00.010000  86.8750  86.0625  177.6875    NaN      1"
      ]
     },
     "execution_count": 18,
     "metadata": {},
     "output_type": "execute_result"
    }
   ],
   "source": [
    "def fill_event_periods(df):\n",
    "    event_start = None\n",
    "    event_type = None\n",
    "\n",
    "\n",
    "    for i, row in df.iterrows():\n",
    "        if row['marker'] in ['swd1', 'ds1', 'is1']:  # Если находим начало события\n",
    "            event_start = i\n",
    "            event_type = row['marker']  # Запоминаем тип события\n",
    "\n",
    "        elif row['marker'] in ['swd2', 'ds2', 'is2'] and event_start is not None:  # Конец события\n",
    "            event_end = i\n",
    "            # Заполняем промежутки между началом и концом события\n",
    "            df.loc[event_start + 1:event_end - 1, 'marker'] = event_type\n",
    "            event_start = None  # Сброс\n",
    "            event_type = None   # Сброс\n",
    "\n",
    "    df['marker'] = df['marker'].replace({'ds1': 'ds', 'ds2': 'ds', 'is1': 'is', 'is2': 'is', 'swd1': 'swd', 'swd2': 'swd'})\n",
    "    return df\n",
    "\n",
    "df_filled = fill_event_periods(df)\n",
    "\n",
    "df_filled.head()"
   ]
  },
  {
   "cell_type": "code",
   "execution_count": 19,
   "metadata": {
    "execution": {
     "iopub.execute_input": "2024-11-09T16:09:01.337880Z",
     "iopub.status.busy": "2024-11-09T16:09:01.336787Z",
     "iopub.status.idle": "2024-11-09T16:09:05.185683Z",
     "shell.execute_reply": "2024-11-09T16:09:05.184698Z",
     "shell.execute_reply.started": "2024-11-09T16:09:01.337838Z"
    },
    "trusted": true
   },
   "outputs": [
    {
     "name": "stderr",
     "output_type": "stream",
     "text": [
      "/tmp/ipykernel_30/628020086.py:1: FutureWarning: A value is trying to be set on a copy of a DataFrame or Series through chained assignment using an inplace method.\n",
      "The behavior will change in pandas 3.0. This inplace method will never work because the intermediate object on which we are setting values always behaves as a copy.\n",
      "\n",
      "For example, when doing 'df[col].method(value, inplace=True)', try using 'df.method({col: value}, inplace=True)' or df[col] = df[col].method(value) instead, to perform the operation inplace on the original object.\n",
      "\n",
      "\n",
      "  df_filled['marker'].fillna(value='none', inplace=True)\n"
     ]
    }
   ],
   "source": [
    "df_filled['marker'].fillna(value='none', inplace=True)"
   ]
  },
  {
   "cell_type": "code",
   "execution_count": 20,
   "metadata": {
    "execution": {
     "iopub.execute_input": "2024-11-09T16:09:39.191209Z",
     "iopub.status.busy": "2024-11-09T16:09:39.190529Z",
     "iopub.status.idle": "2024-11-09T16:09:39.201517Z",
     "shell.execute_reply": "2024-11-09T16:09:39.200400Z",
     "shell.execute_reply.started": "2024-11-09T16:09:39.191171Z"
    },
    "trusted": true
   },
   "outputs": [
    {
     "name": "stdout",
     "output_type": "stream",
     "text": [
      "<class 'pandas.core.frame.DataFrame'>\n",
      "RangeIndex: 51842407 entries, 0 to 51842406\n",
      "Data columns (total 6 columns):\n",
      " #   Column  Dtype  \n",
      "---  ------  -----  \n",
      " 0   time    object \n",
      " 1   FrL     float64\n",
      " 2   FrR     float64\n",
      " 3   OcR     float64\n",
      " 4   marker  object \n",
      " 5   krisa   int64  \n",
      "dtypes: float64(3), int64(1), object(2)\n",
      "memory usage: 2.3+ GB\n"
     ]
    }
   ],
   "source": [
    "df_filled.info()"
   ]
  },
  {
   "cell_type": "code",
   "execution_count": 22,
   "metadata": {
    "execution": {
     "iopub.execute_input": "2024-11-09T16:09:51.852942Z",
     "iopub.status.busy": "2024-11-09T16:09:51.852559Z",
     "iopub.status.idle": "2024-11-09T16:09:58.310575Z",
     "shell.execute_reply": "2024-11-09T16:09:58.309417Z",
     "shell.execute_reply.started": "2024-11-09T16:09:51.852906Z"
    },
    "trusted": true
   },
   "outputs": [
    {
     "data": {
      "text/plain": [
       "marker\n",
       "none    34682226\n",
       "ds      16088171\n",
       "swd       836370\n",
       "is        235640\n",
       "Name: count, dtype: int64"
      ]
     },
     "execution_count": 22,
     "metadata": {},
     "output_type": "execute_result"
    }
   ],
   "source": [
    "df_filled['marker'].value_counts()"
   ]
  },
  {
   "cell_type": "code",
   "execution_count": 23,
   "metadata": {
    "execution": {
     "iopub.execute_input": "2024-11-09T16:10:08.061477Z",
     "iopub.status.busy": "2024-11-09T16:10:08.061066Z",
     "iopub.status.idle": "2024-11-09T16:15:51.277254Z",
     "shell.execute_reply": "2024-11-09T16:15:51.276464Z",
     "shell.execute_reply.started": "2024-11-09T16:10:08.061438Z"
    },
    "trusted": true
   },
   "outputs": [],
   "source": [
    "df_filled.to_csv('data_all.csv')"
   ]
  },
  {
   "cell_type": "code",
   "execution_count": null,
   "metadata": {},
   "outputs": [],
   "source": [
    "import pandas as pd\n",
    "\n",
    "def process_none_marker(csv_file, output_file):\n",
    "    # Загрузка данных из CSV файла\n",
    "    df = pd.read_csv(csv_file)\n",
    "\n",
    "    # Инициализация списка индексов для удаления\n",
    "    to_remove = []\n",
    "\n",
    "    # Перебор строк и поиск промежутков с \"none\"\n",
    "    for i in range(1, len(df) - 1):\n",
    "        # Проверяем, что текущий и предыдущий маркеры равны \"none\"\n",
    "        if df['marker'][i] == 'none' and df['marker'][i-1] == 'none':\n",
    "            # Найден промежуток \"none\", начинаем искать начало и конец\n",
    "            start_idx = i - 1  # индекс начала\n",
    "            end_idx = i + 1    # индекс конца\n",
    "            \n",
    "            # Находим все подряд идущие 'none' для начала\n",
    "            while start_idx > 0 and df['marker'][start_idx-1] == 'none':\n",
    "                start_idx -= 1\n",
    "                \n",
    "            # Находим все подряд идущие 'none' для конца\n",
    "            while end_idx < len(df) and df['marker'][end_idx] == 'none':\n",
    "                end_idx += 1\n",
    "\n",
    "            # Оставляем только первые 2000 и последние 2000 значений - по 5 сек\n",
    "            to_remove.extend(range(start_idx + 2000, end_idx - 2000))\n",
    "\n",
    "    # Удаляем найденные индексы\n",
    "    df.drop(to_remove, inplace=True)\n",
    "\n",
    "    # Сохраняем измененный DataFrame в новый CSV\n",
    "    df.to_csv(output_file, index=False)\n",
    "    print(f\"Обработка завершена. Данные сохранены в {output_file}\")\n",
    "\n",
    "# Пример использования:\n",
    "process_none_marker(\"data_all.csv\", \"processed_data_all.csv\")"
   ]
  }
 ],
 "metadata": {
  "kaggle": {
   "accelerator": "nvidiaTeslaT4",
   "dataSources": [
    {
     "datasetId": 6046845,
     "sourceId": 9853924,
     "sourceType": "datasetVersion"
    }
   ],
   "dockerImageVersionId": 30787,
   "isGpuEnabled": true,
   "isInternetEnabled": true,
   "language": "python",
   "sourceType": "notebook"
  },
  "kernelspec": {
   "display_name": "env310",
   "language": "python",
   "name": "python3"
  },
  "language_info": {
   "codemirror_mode": {
    "name": "ipython",
    "version": 3
   },
   "file_extension": ".py",
   "mimetype": "text/x-python",
   "name": "python",
   "nbconvert_exporter": "python",
   "pygments_lexer": "ipython3",
   "version": "3.10.13"
  }
 },
 "nbformat": 4,
 "nbformat_minor": 4
}
